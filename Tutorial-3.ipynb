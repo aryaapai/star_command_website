{
 "cells": [
  {
   "cell_type": "markdown",
   "metadata": {},
   "source": [
    "# Tutorial 3: Using Markdown Cells in Jupyter Notebook"
   ]
  },
  {
   "cell_type": "markdown",
   "metadata": {},
   "source": [
    "In Jupyter Notebooks, text can be added to explain your code using Markdown cells. Markdown is a very popular markup language that is a superset of HTML. It is a text-to-HTML conversion tool which is considered a writing standard by analysts and data scientists. In this tutorial, you will learn Markdown syntax which is supported by Jupyter Notebook. "
   ]
  },
  {
   "cell_type": "markdown",
   "metadata": {},
   "source": [
    "For starters, change the cell type of the next cell as follows: <br>\n",
    "> 1) Click on the cell you wish to change the type of. <br>\n",
    "> 2) Select the `'Cell'` option from the navigation bar at the top of the notebook. <br> \n",
    "> 3) Hover over the option `'Cell Type'`. <br>\n",
    "> 4) Choose the `'Markdown'` option. Your cell would've now changed from type Code to type Markdown. \n",
    "<br>\n",
    "\n",
    "In order to test this, type out the phrase 'Hello World' and press the buttons `shift + return` to **run** your cell. "
   ]
  },
  {
   "cell_type": "code",
   "execution_count": 2,
   "metadata": {},
   "outputs": [],
   "source": [
    "#Change cell-type to Markdown\n",
    "#Delete these comments, type text 'Hello World' and run cell"
   ]
  },
  {
   "cell_type": "markdown",
   "metadata": {},
   "source": [
    "## Writing Headings in Markdown. "
   ]
  },
  {
   "cell_type": "markdown",
   "metadata": {},
   "source": [
    "Markdown provides 6 different sizes for headings. Headings are written starting with a hashtag '#' and a space ' ' followed by the heading. The different sizes are distiguished by the number of hashtags, starting with 1 hashtag '#' for the largest heading, and 6 hashtags '######' for the smallest heading size.<br> Run the cells below to see the different heading styles available in Jupyter Notebook through Markdown. "
   ]
  },
  {
   "cell_type": "code",
   "execution_count": null,
   "metadata": {},
   "outputs": [],
   "source": [
    "#Change the type of the following cells to Markdown\n",
    "#Run the cells\n",
    "\n",
    "#WARNING: you will see an error if you run the cell without changing the cell-type. "
   ]
  },
  {
   "cell_type": "code",
   "execution_count": null,
   "metadata": {},
   "outputs": [],
   "source": [
    "# Heading 1"
   ]
  },
  {
   "cell_type": "code",
   "execution_count": null,
   "metadata": {},
   "outputs": [],
   "source": [
    "## Heading 2"
   ]
  },
  {
   "cell_type": "code",
   "execution_count": null,
   "metadata": {},
   "outputs": [],
   "source": [
    "### Heading 3"
   ]
  },
  {
   "cell_type": "code",
   "execution_count": null,
   "metadata": {},
   "outputs": [],
   "source": [
    "#### Heading 4"
   ]
  },
  {
   "cell_type": "code",
   "execution_count": null,
   "metadata": {},
   "outputs": [],
   "source": [
    "##### Heading 5"
   ]
  },
  {
   "cell_type": "code",
   "execution_count": null,
   "metadata": {},
   "outputs": [],
   "source": [
    "###### Heading 6"
   ]
  },
  {
   "cell_type": "markdown",
   "metadata": {},
   "source": [
    "The same heading styles can be achieved by placing Markup Tags before and after the Heading text. Markup Tags are just h1,h2,...,h6 wrapped in <> tags. For instance, run the cell below that contains a sub-heading of size Heading 3. "
   ]
  },
  {
   "cell_type": "code",
   "execution_count": null,
   "metadata": {},
   "outputs": [],
   "source": [
    "#Change cell-type of the following cell to Markdown\n",
    "#Run the cell\n",
    "\n",
    "#WARNING: you will see an error if you run the cell without changing the cell-type. "
   ]
  },
  {
   "cell_type": "code",
   "execution_count": null,
   "metadata": {},
   "outputs": [],
   "source": [
    "<h3> This is a sub-heading <h3>"
   ]
  },
  {
   "cell_type": "markdown",
   "metadata": {},
   "source": [
    "## How to add a Line Break? "
   ]
  },
  {
   "cell_type": "markdown",
   "metadata": {},
   "source": [
    "Line Break in Jupyter Notebook is the keyboard equivalent of the 'return' key. It is used to enter a line between two words or sentences. A Line Break can be achieved by typing br within <> tags wherever a statement needs to be moved to the next line. "
   ]
  },
  {
   "cell_type": "code",
   "execution_count": null,
   "metadata": {},
   "outputs": [],
   "source": [
    "#Change cell-type of the following cell to Markdown\n",
    "#Run the cell\n",
    "\n",
    "#WARNING: you will see an error if you run the cell without changing the cell-type. "
   ]
  },
  {
   "cell_type": "code",
   "execution_count": null,
   "metadata": {},
   "outputs": [],
   "source": [
    "This line will break after the tag <br> and this information is now in the next line!"
   ]
  },
  {
   "cell_type": "markdown",
   "metadata": {},
   "source": [
    "## What are Blockquotes? "
   ]
  },
  {
   "cell_type": "markdown",
   "metadata": {},
   "source": [
    "Blockquotes hold text that are large and are indented. They can be achieved by the symbol in Markdown `>` or by wrapping the text around the tags <br> `<blockquote>` and `</blockquote>`"
   ]
  },
  {
   "cell_type": "code",
   "execution_count": 4,
   "metadata": {},
   "outputs": [],
   "source": [
    "#Change cell-type of the following cell to Markdown\n",
    "#Run the cell\n",
    "\n",
    "#WARNING: you will see an error if you run the cell without changing the cell-type. "
   ]
  },
  {
   "cell_type": "code",
   "execution_count": null,
   "metadata": {},
   "outputs": [],
   "source": [
    ">Now this information about cats is indented. The cat is a domestic species of a small carnivorous mammal. Cats produce the sound 'meow'. Cats have whiskers. "
   ]
  },
  {
   "cell_type": "markdown",
   "metadata": {},
   "source": [
    "### TASK 1"
   ]
  },
  {
   "cell_type": "markdown",
   "metadata": {},
   "source": [
    "Here is a simple task for you to do to test your markdown skills so far. Follow the steps to see headings, line breaks and blockquotes in action! <br>\n",
    "> 1) Create a markdown cell and write the heading in size 4 with text 'This is my answer'. <br>\n",
    "> 2) Create another new markdown cell and write three fun facts about yourself. <br>\n",
    "> 3) Add line breaks between each fun fact. <br>\n",
    "> 4) Indent each fun fact using blockquotes. <br>"
   ]
  },
  {
   "cell_type": "code",
   "execution_count": 17,
   "metadata": {},
   "outputs": [],
   "source": [
    "#TASK 1 CELL"
   ]
  },
  {
   "cell_type": "code",
   "execution_count": 16,
   "metadata": {},
   "outputs": [],
   "source": [
    "#TASK 1 CELL"
   ]
  },
  {
   "cell_type": "markdown",
   "metadata": {},
   "source": [
    "## Writing mathematical symbols in Markdown."
   ]
  },
  {
   "cell_type": "markdown",
   "metadata": {},
   "source": [
    "In order to add mathematical symbols in markdown, we wrap the mathematical terms around dollar signs `$` . "
   ]
  },
  {
   "cell_type": "code",
   "execution_count": 6,
   "metadata": {},
   "outputs": [],
   "source": [
    "#Change cell-type of the following cells to Markdown\n",
    "#Run the cell\n",
    "\n",
    "#WARNING: you will see an error if you run the cell without changing the cell-type. "
   ]
  },
  {
   "cell_type": "code",
   "execution_count": null,
   "metadata": {},
   "outputs": [],
   "source": [
    "$\\sqrt{x}$"
   ]
  },
  {
   "cell_type": "code",
   "execution_count": null,
   "metadata": {},
   "outputs": [],
   "source": [
    "$\\sum$"
   ]
  },
  {
   "cell_type": "markdown",
   "metadata": {},
   "source": [
    "## How to bold your text?"
   ]
  },
  {
   "cell_type": "markdown",
   "metadata": {},
   "source": [
    "There are three different ways one can achieve bold text in Markdown. <br>\n",
    "> 1) The first, is to wrap the text around tags `<b>` and `</b>`. <br>\n",
    "> 2) The second, is to use the double asterisk `**` before and after typing the text. <br> \n",
    "> 3) The third, is to use the double asterisk `__` before and after typing the text. <br>"
   ]
  },
  {
   "cell_type": "code",
   "execution_count": 2,
   "metadata": {},
   "outputs": [],
   "source": [
    "#Change cell-type of the following cells to Markdown\n",
    "#Run the cell\n",
    "\n",
    "#WARNING: you will see an error if you run the cell without changing the cell-type."
   ]
  },
  {
   "cell_type": "code",
   "execution_count": null,
   "metadata": {},
   "outputs": [],
   "source": [
    "<b> That is very bold of you! </b>"
   ]
  },
  {
   "cell_type": "code",
   "execution_count": null,
   "metadata": {},
   "outputs": [],
   "source": [
    "**That is very bold of you!**"
   ]
  },
  {
   "cell_type": "code",
   "execution_count": null,
   "metadata": {},
   "outputs": [],
   "source": [
    "__That is very bold of you__"
   ]
  },
  {
   "cell_type": "markdown",
   "metadata": {},
   "source": [
    "## Let's learn to italicize!"
   ]
  },
  {
   "cell_type": "markdown",
   "metadata": {},
   "source": [
    "There are three different ways one can achieve italic text in Markdown. <br>\n",
    "> 1) The first, is to wrap the text around tags `<i>` and `</i>`. <br>\n",
    "> 2) The second, is to use the asterisk `*` before and after typing the text. <br> \n",
    "> 3) The third, is to use the asterisk `_` before and after typing the text. <br>"
   ]
  },
  {
   "cell_type": "code",
   "execution_count": 20,
   "metadata": {},
   "outputs": [],
   "source": [
    "#Change cell-type of the following cells to Markdown\n",
    "#Run the cell\n",
    "\n",
    "#WARNING: you will see an error if you run the cell without changing the cell-type."
   ]
  },
  {
   "cell_type": "code",
   "execution_count": null,
   "metadata": {},
   "outputs": [],
   "source": [
    "<i> This is italicized! </i>"
   ]
  },
  {
   "cell_type": "code",
   "execution_count": null,
   "metadata": {},
   "outputs": [],
   "source": [
    "*This is italicized!*"
   ]
  },
  {
   "cell_type": "code",
   "execution_count": null,
   "metadata": {},
   "outputs": [],
   "source": [
    "_This is italicized!_"
   ]
  },
  {
   "cell_type": "markdown",
   "metadata": {},
   "source": [
    "## Writing snippets of code in a Markdown Cell. "
   ]
  },
  {
   "cell_type": "markdown",
   "metadata": {},
   "source": [
    "Code snippets can be added in a Markdown Cell by using  backticks ' \\` '  before and after the code. "
   ]
  },
  {
   "cell_type": "code",
   "execution_count": 22,
   "metadata": {},
   "outputs": [],
   "source": [
    "#Change cell-type of the following cells to Markdown\n",
    "#Run the cell to see how to add code in a Markdown cell\n",
    "\n",
    "#WARNING: you will see an error if you run the cell without changing the cell-type."
   ]
  },
  {
   "cell_type": "code",
   "execution_count": null,
   "metadata": {},
   "outputs": [],
   "source": [
    "` 1 + 1 = 2 ` <br> \n",
    "` return 2 `"
   ]
  },
  {
   "cell_type": "markdown",
   "metadata": {},
   "source": [
    "## Creating lists in Markdown."
   ]
  },
  {
   "cell_type": "markdown",
   "metadata": {},
   "source": [
    "Markdown allows you to create ordered and unordered lists. <br>"
   ]
  },
  {
   "cell_type": "markdown",
   "metadata": {},
   "source": [
    "### Ordered Lists"
   ]
  },
  {
   "cell_type": "markdown",
   "metadata": {},
   "source": [
    "Ordered lists in Markdown are numbered. They can be obtained by doing the following: \n",
    "> 1) Place tags `<ol>` and `</ol>` before and after the list contents respectively. <br>\n",
    "> 2) Place each individual list item between tags `<li>` and `</li>`. "
   ]
  },
  {
   "cell_type": "code",
   "execution_count": 8,
   "metadata": {},
   "outputs": [],
   "source": [
    "#Change cell-type of the following cells to Markdown\n",
    "#Run the cell\n",
    "\n",
    "#WARNING: you will see an error if you run the cell without changing the cell-type."
   ]
  },
  {
   "cell_type": "code",
   "execution_count": null,
   "metadata": {},
   "outputs": [],
   "source": [
    "<ol>\n",
    "<li> mercury </li>\n",
    "<li> venus </li>\n",
    "<li> earth </li>\n",
    "<li> mars </li>\n",
    "<li> jupiter </li>\n",
    "<li> saturn </li>\n",
    "<li> uranus </li>\n",
    "<li> neptune </li>\n",
    "</ol>"
   ]
  },
  {
   "cell_type": "markdown",
   "metadata": {},
   "source": [
    "### Unordered Lists"
   ]
  },
  {
   "cell_type": "markdown",
   "metadata": {},
   "source": [
    "Unordered lists in Markdown are bulleted lists. They can be obtained by doing the following: \n",
    "> 1) Place tags `<ul>` and `</ul>` before and after the list contents respectively. <br>\n",
    "> 2) Place each individual list item between tags `<li>` and `</li>`. "
   ]
  },
  {
   "cell_type": "code",
   "execution_count": 9,
   "metadata": {},
   "outputs": [],
   "source": [
    "#Change cell-type of the following cells to Markdown\n",
    "#Run the cell\n",
    "\n",
    "#WARNING: you will see an error if you run the cell without changing the cell-type."
   ]
  },
  {
   "cell_type": "code",
   "execution_count": null,
   "metadata": {},
   "outputs": [],
   "source": [
    "<ul>\n",
    "<li> mercury </li>\n",
    "<li> venus </li>\n",
    "<li> earth </li>\n",
    "<li> mars </li>\n",
    "<li> jupiter </li>\n",
    "<li> saturn </li>\n",
    "<li> uranus </li>\n",
    "<li> neptune </li>\n",
    "</ul>"
   ]
  },
  {
   "cell_type": "markdown",
   "metadata": {},
   "source": [
    "## Learn to construct tables."
   ]
  },
  {
   "cell_type": "markdown",
   "metadata": {},
   "source": [
    "A table is a data representation structure that displays information in rows and columns. In Markdown, we can build tables using the following syntax: <br>\n",
    "> 1) Build columns by separating information using the **'vertical pipe'** ' | ' <br>\n",
    "> 2) Use hypher ' - ' symbols to create the header with column names, in order to indicate the table format. <br>\n",
    "> 3) Make sure to hit `return` between each row "
   ]
  },
  {
   "cell_type": "code",
   "execution_count": 10,
   "metadata": {},
   "outputs": [],
   "source": [
    "#Change cell-type of the following cells to Markdown\n",
    "#Run the cell\n",
    "\n",
    "#WARNING: you will see an error if you run the cell without changing the cell-type."
   ]
  },
  {
   "cell_type": "code",
   "execution_count": null,
   "metadata": {},
   "outputs": [],
   "source": [
    "|Name|Radius|Color|\n",
    "|-----|-------|-----| \n",
    "|Mercury|1516 miles|grey|\n",
    "|Venus|3,760 miles|white|\n",
    "|Earth|3,959 miles|blue/green|\n",
    "|Mars |2,106 miles|red|"
   ]
  },
  {
   "cell_type": "markdown",
   "metadata": {},
   "source": [
    "If this syntax is difficult to follow, there is a longer however simpler method to construct tables which are outlined in the following steps: <br>\n",
    "> 1) Start with \"< table style= \"width: *'insert percentage'*\" > where the percentage can range from 10%-100% <br>\n",
    "> 2) Wrap each row around tags `<tr>` and `</tr>` <br>\n",
    "> 3) Within each row, wrap column elements around tags of `<td>` and `</td>`. However, if it is the header row, wrap each element tags `<th>` and `</th>`. "
   ]
  },
  {
   "cell_type": "code",
   "execution_count": null,
   "metadata": {},
   "outputs": [],
   "source": [
    "#Change cell-type of the following cells to Markdown\n",
    "#Run the cell\n",
    "\n",
    "#WARNING: you will see an error if you run the cell without changing the cell-type."
   ]
  },
  {
   "cell_type": "code",
   "execution_count": null,
   "metadata": {},
   "outputs": [],
   "source": [
    "<table style= \"width: 30%\">\n",
    "   <tr>\n",
    "       <th> Name </th>\n",
    "       <th> Radius </th>\n",
    "       <th> Color </th> \n",
    "   </tr> \n",
    "   <tr>\n",
    "       <td> Mercury </td>\n",
    "       <td> 1516 miles </td>\n",
    "       <td> grey </td> \n",
    "   </tr>\n",
    "   <tr>\n",
    "       <td> Venus </td>\n",
    "       <td> 3,760 miles </td>\n",
    "       <td> white </td> \n",
    "   </tr>\n",
    "   <tr>\n",
    "       <td> Earth </td>\n",
    "       <td> R3,959 miles </td>\n",
    "       <td> blue/green </td> \n",
    "   </tr>\n",
    "   <tr>\n",
    "       <td> Mars </td>\n",
    "       <td> 2,106 miles </td>\n",
    "       <td> red </td> \n",
    "   </tr>\n",
    "</table>"
   ]
  },
  {
   "cell_type": "markdown",
   "metadata": {},
   "source": [
    "## Commenting in Markdown."
   ]
  },
  {
   "cell_type": "markdown",
   "metadata": {},
   "source": [
    "Markdown also has the feature to add comments that only appear in the code box and does not appear once you run the cell. These comments can be used to describe to other coders why a choice was made, or to explain the functionality of a specific statement. Once the cell is run, these comments are no longer visible. \n",
    "\n",
    "> The syntax to write a comment is to first type ` [//]: ` followed by ` # (*Insert comment here*) `"
   ]
  },
  {
   "cell_type": "code",
   "execution_count": 13,
   "metadata": {},
   "outputs": [],
   "source": [
    "#Change cell-type of the following cell to Markdown\n",
    "#Run the cell\n",
    "\n",
    "#WARNING: you will see an error if you run the cell without changing the cell-type."
   ]
  },
  {
   "cell_type": "markdown",
   "metadata": {},
   "source": [
    "[//]: # (This syntax works like a comment, and won't appear in any output.) \n",
    "As you can see, output text does not have the comment on display! "
   ]
  },
  {
   "cell_type": "markdown",
   "metadata": {},
   "source": [
    "### TASK 2"
   ]
  },
  {
   "cell_type": "markdown",
   "metadata": {},
   "source": [
    "Here is a second task for you to do to test your markdown skills. Follow the steps to tables and text styling in action! <br>\n",
    "> 1) Create a table with width 40%.  <br>\n",
    "> 2) Add Column headings 'Name', 'Relationship' <br>\n",
    "> 2) Add rows with two column elements: names of your family members, and their relationship to you. <br>\n",
    "> 3) Italicize the relationship column. <br>\n",
    "> 4) Bold the names column. <br>\n",
    "> 5) Add a comment at the bottom about one thing you appreciate about your family!"
   ]
  },
  {
   "cell_type": "code",
   "execution_count": 15,
   "metadata": {},
   "outputs": [],
   "source": [
    "#TASK 2 CELL"
   ]
  },
  {
   "cell_type": "markdown",
   "metadata": {},
   "source": [
    "## Embedding images in a Markdown cell. "
   ]
  },
  {
   "cell_type": "markdown",
   "metadata": {},
   "source": [
    "Inserting an image in a Markdown cell is very straightforward on Jupyter Notebook. Follow these steps to add an image to the cell below! <br> \n",
    "\n",
    "> 1) Change the cell-type to `Markdown`. <br>\n",
    "> 2) Click on the `Edit` menu in the navigation bar at the top of the notebook. <br> \n",
    "> 3) Click on the `Insert Image` option. <br> \n",
    "> 4) Click on the `Choose File` button. <br> \n",
    "> 5) Navigate through your system and choose a photo to insert. <br> \n",
    "> 6) Press the `OK` button.\n",
    "> 6) Run the cell."
   ]
  },
  {
   "cell_type": "code",
   "execution_count": 19,
   "metadata": {},
   "outputs": [],
   "source": [
    "#Delete this comment and use this cell to insert an image!"
   ]
  },
  {
   "cell_type": "markdown",
   "metadata": {},
   "source": [
    "### Solutions"
   ]
  },
  {
   "cell_type": "markdown",
   "metadata": {},
   "source": [
    "The following cells contain example solutions to Tasks 1 and 2. You can double click solution cells to see the code used to produce the correctly formatted output! "
   ]
  },
  {
   "cell_type": "markdown",
   "metadata": {},
   "source": [
    "### Task 1"
   ]
  },
  {
   "cell_type": "markdown",
   "metadata": {},
   "source": [
    "#### This is my answer"
   ]
  },
  {
   "cell_type": "markdown",
   "metadata": {},
   "source": [
    "> I am a Computer Science major. <br>\n",
    "> I like to dance and sing in my spare time. <br>\n",
    "> I have met Harry Styles!"
   ]
  },
  {
   "cell_type": "markdown",
   "metadata": {},
   "source": [
    "### Task 2"
   ]
  },
  {
   "cell_type": "markdown",
   "metadata": {},
   "source": [
    "<table style= \"width: 40%\">\n",
    "   <tr>\n",
    "       <th> Name </th>\n",
    "       <th> Relationship </th> \n",
    "   </tr> \n",
    "   <tr>\n",
    "       <td> Jack </td>\n",
    "       <td> Father </td>\n",
    "   </tr>\n",
    "   <tr>\n",
    "       <td> Jim </td>\n",
    "       <td> Father </td>\n",
    "   </tr>\n",
    "   <tr>\n",
    "       <td> Taylor </td>\n",
    "       <td> Sister </td>\n",
    "   </tr>\n",
    "   <tr>\n",
    "       <td> Brandon </td>\n",
    "       <td> Brother </td> \n",
    "   </tr>\n",
    "</table>\n",
    "\n",
    "[//]: # (I appreciate that my family values kindness and compassion above all!)"
   ]
  },
  {
   "cell_type": "code",
   "execution_count": null,
   "metadata": {},
   "outputs": [],
   "source": []
  }
 ],
 "metadata": {
  "kernelspec": {
   "display_name": "Python 3",
   "language": "python",
   "name": "python3"
  },
  "language_info": {
   "codemirror_mode": {
    "name": "ipython",
    "version": 3
   },
   "file_extension": ".py",
   "mimetype": "text/x-python",
   "name": "python",
   "nbconvert_exporter": "python",
   "pygments_lexer": "ipython3",
   "version": "3.7.9"
  }
 },
 "nbformat": 4,
 "nbformat_minor": 4
}
