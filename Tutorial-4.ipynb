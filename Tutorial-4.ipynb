{
 "cells": [
  {
   "cell_type": "markdown",
   "metadata": {},
   "source": [
    "# Tutorial 4: Packages & Plotting"
   ]
  },
  {
   "cell_type": "markdown",
   "metadata": {},
   "source": [
    "## Learn how to use packages.\n",
    "\n",
    "One great thing about Python is the wide selection of packages it has. Packages are already written code that can help you in many tasks. To use a package, you need to import it. Let's see some examples.\n",
    "\n",
    "The first example is `numpy`."
   ]
  },
  {
   "cell_type": "code",
   "execution_count": null,
   "metadata": {},
   "outputs": [],
   "source": [
    "# This is the import line\n",
    "import numpy as np"
   ]
  },
  {
   "cell_type": "markdown",
   "metadata": {},
   "source": [
    "`numpy` allows us to work with math operations, lists, arrays, matrices and more. It is one of the most commonly used packages in Python. You can learn more about the packages on their official documentation. https://numpy.org contains all the commands you can use from the package."
   ]
  },
  {
   "cell_type": "markdown",
   "metadata": {},
   "source": [
    "`pandas` is another package in Python that allows us to work with datasets. This is an essential tool for working with data science topics in python. https://pandas.pydata.org/ contains all the commands you can use from the package."
   ]
  },
  {
   "cell_type": "code",
   "execution_count": null,
   "metadata": {},
   "outputs": [],
   "source": [
    "import pandas as pd"
   ]
  },
  {
   "cell_type": "markdown",
   "metadata": {},
   "source": [
    "Now that we have been introduced to what a package is, let's dive deeper into `Matplotlib` that allows us to plot in Python for the rest of this tutorial."
   ]
  },
  {
   "cell_type": "markdown",
   "metadata": {},
   "source": [
    "## First, what is Matplotlib?\n",
    "\n",
    "- It is a package in Python, that allows users to insert graphics into their notebook, in order to better communicate their findings.\n",
    "- Link to official documentation website: https://matplotlib.org\n",
    "\n",
    "However, the official documentation is difficult to understand, especially for beginners. This notebook covers many areas for plotting in Jupyter Notebooks. In this section, we will cover the absolute basics you'll need."
   ]
  },
  {
   "cell_type": "code",
   "execution_count": null,
   "metadata": {},
   "outputs": [],
   "source": [
    "# This is the import line for using the package Matplotlib\n",
    "import matplotlib.pyplot as plt\n",
    "\n",
    "#The rest of the import lines\n",
    "\n",
    "from datetime import datetime"
   ]
  },
  {
   "cell_type": "markdown",
   "metadata": {},
   "source": [
    "A basic line plot:"
   ]
  },
  {
   "cell_type": "code",
   "execution_count": null,
   "metadata": {},
   "outputs": [],
   "source": [
    "# This example has very few data points, so you can directly see what is happening\n",
    "X = [1, 3, 5, 9.8, 10, 12] #the list of x values\n",
    "Y = [1, 2, 6, 7.5, 8, 10] #the list of y values\n",
    "\n",
    "plt.plot(X, Y) #this is what you use for most plots in Matplotlib, there are many fields you can specify further\n",
    "plt.show() #function to show the plot, not having this line allows you to add to the same plot region within a cell"
   ]
  },
  {
   "cell_type": "markdown",
   "metadata": {},
   "source": [
    "Scatter plot (note that we can also specify the color):"
   ]
  },
  {
   "cell_type": "code",
   "execution_count": null,
   "metadata": {},
   "outputs": [],
   "source": [
    "plt.plot(X, Y, '.', color='orange')\n",
    "plt.show()"
   ]
  },
  {
   "cell_type": "markdown",
   "metadata": {},
   "source": [
    "Line plot with dots for points:"
   ]
  },
  {
   "cell_type": "code",
   "execution_count": null,
   "metadata": {},
   "outputs": [],
   "source": [
    "plt.plot(X, Y, '.-')\n",
    "plt.show()"
   ]
  },
  {
   "cell_type": "code",
   "execution_count": null,
   "metadata": {},
   "outputs": [],
   "source": [
    "# You can continue to experiment in this cell, by changing what is in the quotations.\n",
    "#https://matplotlib.org/2.1.2/api/_as_gen/matplotlib.pyplot.plot.html\n",
    "\n",
    "#plt.plot(X, Y, '')\n",
    "#plt.show()"
   ]
  },
  {
   "cell_type": "markdown",
   "metadata": {},
   "source": [
    "Also, it is easy to add titles and labels to your plot:"
   ]
  },
  {
   "cell_type": "code",
   "execution_count": null,
   "metadata": {},
   "outputs": [],
   "source": [
    "plt.plot(X, Y, '.-', color='green', linewidth=2)\n",
    "\n",
    "plt.title('Small Scale Example') #Whatever you put in the string is the title\n",
    "plt.xlabel('X list') #Whatever you put in the stirng is the x label\n",
    "plt.ylabel('Y list') #Whatever you put in the stirng is the y label\n",
    "\n",
    "#again, this line always goes at the end! Try moving it earlier to see what happens.\n",
    "plt.show()"
   ]
  },
  {
   "cell_type": "markdown",
   "metadata": {},
   "source": [
    "## Let's work with real-life data set, NYC Taxi Data Plotting.\n",
    "\n",
    "Now that we have gone over what we can do stylistically with a plot, let's look deeper into how we can use Matplotlib for creating data visuals. This section at the same time introduces you to working with datasets."
   ]
  },
  {
   "cell_type": "markdown",
   "metadata": {},
   "source": [
    "`2017-nyc-for-hire-vehicles.csv` is imported into a dataframe. (This data came from the NYC Taxi dataset, via https://bigquery.cloud.google.com/dataset/bigquery-public-data:new_york)\n",
    "\n",
    "This dataset contains the number of trips conducted by \"for-hire vehicles\" (this includes Uber trips, but not yellow or green cabs) in 2017 in New York City. The data is disaggregated by the hour and date of the pickup.\n",
    "\n",
    "We printed out a few of the records. NOTE: the `date` column is a datetime object."
   ]
  },
  {
   "cell_type": "code",
   "execution_count": null,
   "metadata": {},
   "outputs": [],
   "source": [
    "df = pd.read_csv('2017-nyc-for-hire-vehicles.csv')\n",
    "\n",
    "for index, row in df.iterrows():\n",
    "    df.loc[index,'t'] = datetime.strptime(row['date'],'%Y-%m-%d %H:%M:%S')\n",
    "\n",
    "df.head()"
   ]
  },
  {
   "cell_type": "markdown",
   "metadata": {},
   "source": [
    "Plot trips versus date for the week of dates >= 2017-02-01 and < 2017-02-08.\n",
    "Then, on the same figure, plot trips versus date - 7 days for the trips that happened in the following week (>= 2017-02-08, < 2017-02-15).\n",
    "\n",
    "It would be helpful to look at documentation for `Matplotlib` and `Datetime` pacakges."
   ]
  },
  {
   "cell_type": "markdown",
   "metadata": {},
   "source": [
    "A couple of new things in this cell:\n",
    "- plt.figure(figsize=( , )) specifies the size of the plot. Because we have a trend over time, we need our figure to be wider than the usual box.\n",
    "- We added a new specification for label in plt.plot command.\n",
    "- Combined with plt.legend() in the second to last line, we are able to specify which color corresponds to which curve."
   ]
  },
  {
   "cell_type": "code",
   "execution_count": null,
   "metadata": {},
   "outputs": [],
   "source": [
    "plt.figure(figsize=(10,5))\n",
    "firstweek = df[(df['t']>='2017-02-01') & (df['t']<'2017-02-08')]\n",
    "secweek = df[(df['t']>='2017-02-08') & (df['t']<'2017-02-15')]\n",
    "plt.plot(firstweek['t'], firstweek['trips'], label=\"2017-02-01 to 2017-02-07\")\n",
    "plt.plot(firstweek['t'], secweek['trips'], label=\"2017-02-08 to 2017-02-14\")\n",
    "plt.legend()\n",
    "plt.show()"
   ]
  },
  {
   "cell_type": "markdown",
   "metadata": {},
   "source": [
    "Now we can see the comparison of number of trips between two different weeks. The trends are very similar.\n",
    "\n",
    "Please use the next cell to add a third week on top of the previous two weeks:"
   ]
  },
  {
   "cell_type": "code",
   "execution_count": null,
   "metadata": {},
   "outputs": [],
   "source": [
    "# Insert code here, you should reference the prvious code cell\n",
    "#Copy pasting the previous cell, and editing based on that would be helpful\n",
    "\n"
   ]
  },
  {
   "cell_type": "markdown",
   "metadata": {},
   "source": [
    "## Line plot is not the only type of plot, Histograms are also very common.\n",
    "\n",
    "Another important plotting device to learn is a histogram. You can do this in matplotlib by one command as well.\n",
    "\n",
    "First, we generate some data for us to plot. A normal distribution is a good choice, because we know what to expect for the shape."
   ]
  },
  {
   "cell_type": "code",
   "execution_count": null,
   "metadata": {},
   "outputs": [],
   "source": [
    "# np.random.normal generates normal random variables. loc is mean of the normal, scale is standard deviation\n",
    "#of the normal, and size is how many values we generate based on the normal distribution specified.\n",
    "normal_list = np.random.normal(loc=100, scale=10, size=200)"
   ]
  },
  {
   "cell_type": "markdown",
   "metadata": {},
   "source": [
    "The command you should use is `plt.hist()`. Inside the parenthesis, you should fill in the list you are plotting."
   ]
  },
  {
   "cell_type": "code",
   "execution_count": null,
   "metadata": {},
   "outputs": [],
   "source": [
    "#Uncomment and fill in the list to plot:\n",
    "\n",
    "###plt.hist()\n",
    "plt.show()"
   ]
  },
  {
   "cell_type": "markdown",
   "metadata": {},
   "source": [
    "## Plotting functions is not easy in Python.\n",
    "\n",
    "It is actually not that simple to plot a function such as $y = x^2$ in python. You don't have a simple command to just generate the graph for you. You can even try to use a command such as plt.plot($x^2$) to see that it doesn't work.\n",
    "\n",
    "What you need to do is generate many x and values, calculate the corresponding f(x) values, and connect them so that they look like a smooth curve."
   ]
  },
  {
   "cell_type": "code",
   "execution_count": null,
   "metadata": {},
   "outputs": [],
   "source": [
    "# To generate the x values, we use command np.arrage. The first number is the start value, the second number is\n",
    "#the end value, and the third number is how large the step is. Let's see what this line outputs.\n",
    "step_size_1 = np.arange(-2, 2, 1)\n",
    "step_size_half = np.arange(-2, 2, 0.5)\n",
    "print('step size 1:', step_size_1)\n",
    "print('step size 0.5:', step_size_half)"
   ]
  },
  {
   "cell_type": "markdown",
   "metadata": {},
   "source": [
    "Task: please change the step size to explore how smooth the curve is. (Some numbers to try: 1, 0.5, 0.1, 0.01)"
   ]
  },
  {
   "cell_type": "code",
   "execution_count": null,
   "metadata": {},
   "outputs": [],
   "source": [
    "# This is exactly the command we explored in the previous cell, you can adjust the step size\n",
    "step_size = 0.5\n",
    "x = np.arange(-2, 2, step_size)\n",
    "# To get the list of y's, you just square x, since we want the f(x) = x^2. You can also generate this in a loop\n",
    "y = x**2\n",
    "\n",
    "# Plotting x against y\n",
    "plt.plot(x, y)\n",
    "plt.show()"
   ]
  },
  {
   "cell_type": "markdown",
   "metadata": {},
   "source": [
    "## Axes and Subplots allows you to plot multiple things in the same cell.\n",
    "\n",
    "How do you have multiple plots showing on separate plotting areas? The official documentation for this is very hard to navigate, so we are going to walk you through this process.\n",
    "\n",
    "`Important: the collection of four subplots below is called a figure. And each figure should be coded in the same code cell.`"
   ]
  },
  {
   "cell_type": "code",
   "execution_count": null,
   "metadata": {},
   "outputs": [],
   "source": [
    "# The output for the line of code below shows the command that generates subplots. You can specify how many you \n",
    "#want in each column and row, and assign them accordingly to ax1, ax2, ax3, ax4.\n",
    "fig, [[ax1, ax2], [ax3, ax4]] = plt.subplots(nrows=2, ncols=2)"
   ]
  },
  {
   "cell_type": "markdown",
   "metadata": {},
   "source": [
    "Task: experiment with what you can plot in ax1 to ax4."
   ]
  },
  {
   "cell_type": "code",
   "execution_count": null,
   "metadata": {},
   "outputs": [],
   "source": [
    "# Note: you can further specify the plots by things such as sharex=True, sharey=True. This allows all subplots to\n",
    "#have the same x and y axes.\n",
    "fig, [[ax1, ax2], [ax3, ax4]] = plt.subplots(nrows=2, ncols=2)\n",
    "\n",
    "# Now, we put something into each of the subplots:\n",
    "ax1.plot(x,y) #ax1 has what we plotted in the plotting functions section\n",
    "ax2.plot(x,y,'.') #ax2 has what we plotted in the plotting functions section, but only the dots\n",
    "ax3.plot(x,y,'.-') #ax3 has what we plotted in the plotting functions section, but only the dots and lines\n",
    "\n",
    "### TODO: uncomment and put what you want to plot into ax4\n",
    "#ax4.plot()\n",
    "\n",
    "plt.show()"
   ]
  },
  {
   "cell_type": "markdown",
   "metadata": {},
   "source": [
    "## Don't forget to save your plot!\n",
    "\n",
    "We hope you have learned a lot about plotting in python. Now you just need to save the plots so you can use them in not just Jupyter Notebooks.\n",
    "\n",
    "Of course, you can take screenshots. But saving them directly after each run is much simpler."
   ]
  },
  {
   "cell_type": "code",
   "execution_count": null,
   "metadata": {},
   "outputs": [],
   "source": [
    "# Back to plotting the original example:\n",
    "X = [1, 3, 5, 9.8, 10, 12]\n",
    "Y = [1, 2, 6, 7.5, 8, 10]\n",
    "plt.plot(X, Y)\n",
    "\n",
    "# Now, we save it using the following command.\n",
    "plt.savefig('tutorial4.png')"
   ]
  },
  {
   "cell_type": "code",
   "execution_count": null,
   "metadata": {},
   "outputs": [],
   "source": []
  },
  {
   "cell_type": "code",
   "execution_count": null,
   "metadata": {},
   "outputs": [],
   "source": []
  },
  {
   "cell_type": "code",
   "execution_count": null,
   "metadata": {},
   "outputs": [],
   "source": []
  },
  {
   "cell_type": "code",
   "execution_count": null,
   "metadata": {},
   "outputs": [],
   "source": []
  },
  {
   "cell_type": "markdown",
   "metadata": {},
   "source": [
    "Because a great part of this tutrial contains graph that is not orignally shown in this file, you can check your solution with the pdf file provided here: https://drive.google.com/file/d/1zCaO65EptY3gdQF3DtKnyhbD9b0KKFCL/view?usp=sharing"
   ]
  },
  {
   "cell_type": "code",
   "execution_count": null,
   "metadata": {},
   "outputs": [],
   "source": []
  }
 ],
 "metadata": {
  "kernelspec": {
   "display_name": "Python 3",
   "language": "python",
   "name": "python3"
  },
  "language_info": {
   "codemirror_mode": {
    "name": "ipython",
    "version": 3
   },
   "file_extension": ".py",
   "mimetype": "text/x-python",
   "name": "python",
   "nbconvert_exporter": "python",
   "pygments_lexer": "ipython3",
   "version": "3.6.10"
  }
 },
 "nbformat": 4,
 "nbformat_minor": 4
}
