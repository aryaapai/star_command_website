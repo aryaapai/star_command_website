{
 "cells": [
  {
   "cell_type": "markdown",
   "id": "spoken-waste",
   "metadata": {},
   "source": [
    "# Tutorial 5: Introduction to UNIX Commands"
   ]
  },
  {
   "cell_type": "markdown",
   "id": "painful-hindu",
   "metadata": {},
   "source": [
    "## What are UNIX commands?\n",
    "\n",
    "Unix commands are built-in programs which can be invoked to perform tasks or get information about the operating system. The MacOS Terminal is a interface that allows you to interact with your computer through the form of a command line interface (CLI). The Terminal CLI uses Unix commands as directives. In the this tutorial, you will learn to use some basic UNIX commands and perform tasks through Terminal. "
   ]
  },
  {
   "cell_type": "markdown",
   "id": "false-relation",
   "metadata": {},
   "source": [
    "Jupyter Notebook allows you run UNIX commands with the use of `%%bash` function. If this function is added at the start of the cell, then that cell is run as the MacOS Terminal. We will use this command at the start of all the cells to demo UNIX commands in Jupyter Notebook. We recommend that you follow this tutorial by running the code cells below in the order that they appear in to execute the UNIX commands. Feel change explore the commands by changing the inputs. After obtaining a thorough understanding, you can repeat the tutorial by executing it in the [MacOS Terminal](#id). "
   ]
  },
  {
   "cell_type": "markdown",
   "id": "macro-genius",
   "metadata": {},
   "source": [
    "## Basic Structure of UNIX Commands."
   ]
  },
  {
   "cell_type": "markdown",
   "id": "honest-preserve",
   "metadata": {},
   "source": [
    "A UNIX command usually structured as `[Command] -[Options] [Input]`. Let us use the example of `df` command to understand this better. The `df` command prints the amount of disk space available on the file system. Execute the cell below to see the output of running this command by itself."
   ]
  },
  {
   "cell_type": "code",
   "execution_count": null,
   "id": "under-burton",
   "metadata": {},
   "outputs": [],
   "source": [
    "%%bash\n",
    "df"
   ]
  },
  {
   "cell_type": "markdown",
   "id": "arabic-testament",
   "metadata": {},
   "source": [
    "We can add options while running this command to modify its functionality. The `h` option displays the output in human readable form. Notice the change in output for `Used` and `Available` columns are presented as Gi Bytes with this option. To add an option, we need to add `-[option/flag]` to the command. We can add multiple options as well by adding the option following `-` symbol."
   ]
  },
  {
   "cell_type": "code",
   "execution_count": null,
   "id": "human-trigger",
   "metadata": {},
   "outputs": [],
   "source": [
    "%%bash\n",
    "df -h"
   ]
  },
  {
   "cell_type": "markdown",
   "id": "adjacent-thing",
   "metadata": {},
   "source": [
    "Some unix commands also take inputs, these are usually added after the command and options (if any) followed by a space. If there are multiple inputs, they are added squentially separated by a space. The `df` command can take a file system path as an input and display the data for the file system used by that directory. Note below that only the data for the Downloads folder is displayed."
   ]
  },
  {
   "cell_type": "code",
   "execution_count": null,
   "id": "distributed-america",
   "metadata": {},
   "outputs": [],
   "source": [
    "%%bash\n",
    "df -h ~/Downloads"
   ]
  },
  {
   "cell_type": "markdown",
   "id": "disciplinary-viewer",
   "metadata": {},
   "source": [
    "All UNIX commands follow this basic structure for options and inputs. During this tutorial, we will see examples of grouping commands together, using multiple options and inputs. "
   ]
  },
  {
   "cell_type": "markdown",
   "id": "amber-display",
   "metadata": {},
   "source": [
    "## Learn to navigate your file system using UNIX Commands."
   ]
  },
  {
   "cell_type": "markdown",
   "id": "useful-salad",
   "metadata": {},
   "source": [
    "We can use the MacOS Terminal to navigate the File System."
   ]
  },
  {
   "cell_type": "markdown",
   "id": "informal-albania",
   "metadata": {},
   "source": [
    "#### 1. Printing the working directory\n",
    "The `pwd` can be used to print the working directory. The working directory is the current directory/folder. Executing the cell below should print the directory in which this file resides. If you open a new Terimal window and run the command, it will print the root directory for your user - `~` or `/Users/[username]`."
   ]
  },
  {
   "cell_type": "code",
   "execution_count": null,
   "id": "skilled-theorem",
   "metadata": {},
   "outputs": [],
   "source": [
    "%%bash\n",
    "pwd"
   ]
  },
  {
   "cell_type": "markdown",
   "id": "incredible-detail",
   "metadata": {},
   "source": [
    "#### 2. Changing the working directory\n",
    "The `cd` command can be used to move to different locations. You can add the path of directory that you wish to move to the command. Below, we are using the `cd` command to move to the root directory represented by `~`. We are also printing the current working directory after to confirm that the Terminal is now in the root directory. Feel free to change the directory to your desired location. Note that you need to provide the absolute directory path for folders outside the current directory. "
   ]
  },
  {
   "cell_type": "code",
   "execution_count": null,
   "id": "agreed-partnership",
   "metadata": {},
   "outputs": [],
   "source": [
    "%%bash\n",
    "cd ~\n",
    "pwd"
   ]
  },
  {
   "cell_type": "markdown",
   "id": "another-machine",
   "metadata": {},
   "source": [
    "#### 3. Listing the contents of a directory\n",
    "The `ls` command can use used to list the contents of a directory. You can provide an input path to list the contents of that directory, if no input is provided the contents of the current directory are listed."
   ]
  },
  {
   "cell_type": "code",
   "execution_count": null,
   "id": "hearing-mixture",
   "metadata": {},
   "outputs": [],
   "source": [
    "%%bash\n",
    "ls"
   ]
  },
  {
   "cell_type": "markdown",
   "id": "blessed-steel",
   "metadata": {},
   "source": [
    "This command has multiple options. We have used two options `l` and `a` below. The `l` lists all the details of the files, including the date it was created, owner of the files, user permissions, space used etc. The `a` lists all files including hidden files which start with `.`. These files usually contain information for the OS and are not listed in your file navigator, using CLI is the only way to access them."
   ]
  },
  {
   "cell_type": "code",
   "execution_count": null,
   "id": "representative-movie",
   "metadata": {},
   "outputs": [],
   "source": [
    "%%bash\n",
    "ls -la"
   ]
  },
  {
   "cell_type": "markdown",
   "id": "german-cheese",
   "metadata": {},
   "source": [
    "## Learn to create, move and delete files and directories"
   ]
  },
  {
   "cell_type": "markdown",
   "id": "small-haiti",
   "metadata": {},
   "source": [
    "Along with navigating and listing files, you can also create, move and modify files."
   ]
  },
  {
   "cell_type": "markdown",
   "id": "asian-assault",
   "metadata": {},
   "source": [
    "#### 1. Creating a new directory\n",
    "You can create a new directory using the `mkdir` command followed by the directory name. Below we are creating a new directory called `new_dir` and listing the files to ensure that the directory was created."
   ]
  },
  {
   "cell_type": "code",
   "execution_count": null,
   "id": "seven-rendering",
   "metadata": {},
   "outputs": [],
   "source": [
    "%%bash\n",
    "mkdir new_dir"
   ]
  },
  {
   "cell_type": "code",
   "execution_count": null,
   "id": "collective-quarterly",
   "metadata": {},
   "outputs": [],
   "source": [
    "%%bash\n",
    "ls"
   ]
  },
  {
   "cell_type": "markdown",
   "id": "sustainable-seminar",
   "metadata": {},
   "source": [
    "Note that if we try to create a directory with the same name again, it will present an error message that such a file already exists."
   ]
  },
  {
   "cell_type": "code",
   "execution_count": null,
   "id": "mounted-jurisdiction",
   "metadata": {},
   "outputs": [],
   "source": [
    "%%bash\n",
    "mkdir new_dir"
   ]
  },
  {
   "cell_type": "markdown",
   "id": "caring-spice",
   "metadata": {},
   "source": [
    "#### 2. Deleting a directory\n",
    "We can delete empty directories using the `rmdir` command followed by the directory name. In the cell below we are deleting the directory created above and then listing the files to ensure that it was deleted. "
   ]
  },
  {
   "cell_type": "code",
   "execution_count": null,
   "id": "swiss-assets",
   "metadata": {},
   "outputs": [],
   "source": [
    "%%bash\n",
    "rmdir new_dir\n",
    "ls"
   ]
  },
  {
   "cell_type": "markdown",
   "id": "arabic-pressure",
   "metadata": {},
   "source": [
    "Note that if you try to delete a non existing file, an error message will be given. Below, we try to delete the `new_dir`, which has already been deleted above."
   ]
  },
  {
   "cell_type": "code",
   "execution_count": null,
   "id": "lined-security",
   "metadata": {},
   "outputs": [],
   "source": [
    "%%bash\n",
    "rmdir new_dir"
   ]
  },
  {
   "cell_type": "markdown",
   "id": "continuing-trading",
   "metadata": {},
   "source": [
    "#### 3. Creating a file\n",
    "\n",
    "Creating files is a different from creating directories. You can use the `touch` command to create a new empty file. It takes the file name as the input, you can also provide multiple file names to create multiple files. Running the cell below, will create a new text file named `new_file.txt`. You can create files with any extension using this command. "
   ]
  },
  {
   "cell_type": "code",
   "execution_count": null,
   "id": "social-consequence",
   "metadata": {},
   "outputs": [],
   "source": [
    "%%bash\n",
    "touch new_file.txt"
   ]
  },
  {
   "cell_type": "markdown",
   "id": "brazilian-bryan",
   "metadata": {},
   "source": [
    "While you can create files using the touch command, its main use is to change the access and modification time stamps of a file or directory. Acess time is the time when a file was last accessed or read and modification time is the timestamp when the file was last updated or written. Using the touch command changes the access time. Let us check the current access time of the file using the `ls -l` command."
   ]
  },
  {
   "cell_type": "code",
   "execution_count": null,
   "id": "earlier-canyon",
   "metadata": {},
   "outputs": [],
   "source": [
    "%%bash\n",
    "ls -l new_file.txt"
   ]
  },
  {
   "cell_type": "markdown",
   "id": "numerical-forest",
   "metadata": {},
   "source": [
    "The cell below, waits for 60 seconds (`sleep 60`), uses the `touch` command on the file and rechecks the access time. You can see that this has changed from above. "
   ]
  },
  {
   "cell_type": "code",
   "execution_count": null,
   "id": "wooden-insert",
   "metadata": {},
   "outputs": [],
   "source": [
    "%%bash\n",
    "sleep 60\n",
    "touch new_file.txt\n",
    "ls -l new_file.txt"
   ]
  },
  {
   "cell_type": "markdown",
   "id": "asian-routine",
   "metadata": {},
   "source": [
    "#### 4. Deleting a file"
   ]
  },
  {
   "cell_type": "markdown",
   "id": "outer-royal",
   "metadata": {},
   "source": [
    "We can use the `rm` command to remove or delete a file from a directory. It takes in the file name (or list of file names separated by a spaces) to delete. Please do not run this command unless you are sure about deleting a file. It does not give a warning prompt before doing so. However, if file is write protected it prompt for user permission."
   ]
  },
  {
   "cell_type": "code",
   "execution_count": null,
   "id": "collectible-syria",
   "metadata": {},
   "outputs": [],
   "source": [
    "%%bash\n",
    "rm new_file.txt"
   ]
  },
  {
   "cell_type": "markdown",
   "id": "original-fantasy",
   "metadata": {},
   "source": [
    "Just like the `rmdir` command, trying to delete a file with does not exists results in an error."
   ]
  },
  {
   "cell_type": "code",
   "execution_count": null,
   "id": "dress-authority",
   "metadata": {},
   "outputs": [],
   "source": [
    "%%bash\n",
    "rm new_file.txt"
   ]
  },
  {
   "cell_type": "markdown",
   "id": "developing-drove",
   "metadata": {},
   "source": [
    "The `rm` is a complicated command and has a lot of options available. The `-f` option can be used to run the command to avoid user prompts and ignore errors for non-existent files. Trying to remove a non existent file with this option will not give any error. This is really dangerous as it ignores the user prompt for write-protected files, so you might end up deleting a file which is write protected by mistake."
   ]
  },
  {
   "cell_type": "code",
   "execution_count": null,
   "id": "anonymous-replica",
   "metadata": {},
   "outputs": [],
   "source": [
    "%%bash\n",
    "rm -f new_file.txt"
   ]
  },
  {
   "cell_type": "markdown",
   "id": "frank-diabetes",
   "metadata": {},
   "source": [
    "You can use the delete empty directories using the `-d` flag, this is similar to using the `rmdir` command used above. You will need to use the `-r` flag to delete a directory with contents in it; this flag recursively deletes all the contents in the directory."
   ]
  },
  {
   "cell_type": "markdown",
   "id": "increasing-burner",
   "metadata": {},
   "source": [
    "#### 5. Moving files to a different location\n",
    "The `mv` command can be used to move files around the file system. It uses the `mv [old file path] [new file path]` format and moves a file from the old path to the new path. "
   ]
  },
  {
   "cell_type": "markdown",
   "id": "adverse-shareware",
   "metadata": {},
   "source": [
    "To test this command, let us first create two folders `dir1` and `dir2`, and create a new file name `test.txt` inside `dir1`. Note that we have used `cat` command to create the file, we will learn about this command in later tutorials."
   ]
  },
  {
   "cell_type": "code",
   "execution_count": null,
   "id": "welcome-friendship",
   "metadata": {},
   "outputs": [],
   "source": [
    "%%bash\n",
    "mkdir dir1\n",
    "mkdir dir2\n",
    "touch dir1/test.txt"
   ]
  },
  {
   "cell_type": "markdown",
   "id": "finite-exercise",
   "metadata": {},
   "source": [
    "We have used the move command to move the `test.txt` file from `dir` to `dir2`. We have listed the files in both the directories before and after the move to ensure that the operation was executed correctly."
   ]
  },
  {
   "cell_type": "code",
   "execution_count": null,
   "id": "approximate-armstrong",
   "metadata": {},
   "outputs": [],
   "source": [
    "%%bash\n",
    "ls dir1"
   ]
  },
  {
   "cell_type": "code",
   "execution_count": null,
   "id": "rubber-style",
   "metadata": {},
   "outputs": [],
   "source": [
    "%%bash\n",
    "ls dir2"
   ]
  },
  {
   "cell_type": "code",
   "execution_count": null,
   "id": "impressed-underground",
   "metadata": {},
   "outputs": [],
   "source": [
    "%%bash\n",
    "mv dir1/test.txt dir2/test.txt"
   ]
  },
  {
   "cell_type": "code",
   "execution_count": null,
   "id": "operational-provider",
   "metadata": {},
   "outputs": [],
   "source": [
    "%%bash\n",
    "ls dir1"
   ]
  },
  {
   "cell_type": "code",
   "execution_count": null,
   "id": "military-bradford",
   "metadata": {},
   "outputs": [],
   "source": [
    "%%bash\n",
    "ls dir2"
   ]
  },
  {
   "cell_type": "markdown",
   "id": "material-republican",
   "metadata": {},
   "source": [
    "#### 6. Creating copies of files\n",
    "Similarly, we can used the `cp` command to copy files files. It uses the `cp [file path] [copy file path]` format. Below we have created a copy of test.txt file inside the `dir1` directory."
   ]
  },
  {
   "cell_type": "code",
   "execution_count": null,
   "id": "respiratory-timing",
   "metadata": {},
   "outputs": [],
   "source": [
    "cp dir2/test.txt dir1/test_copy.txt"
   ]
  },
  {
   "cell_type": "markdown",
   "id": "tracked-variation",
   "metadata": {},
   "source": [
    "#### 7. Renaming a file\n",
    "You can rename a file using the `mv` command described above, by using it as `mv [file path/old file name] [file path/new file name]`. Below we are changing the name of the file in the `dir2` folder from `test.txt` to `test2.txt`."
   ]
  },
  {
   "cell_type": "code",
   "execution_count": null,
   "id": "apparent-illinois",
   "metadata": {},
   "outputs": [],
   "source": [
    "mv dir2/test.txt dir2/test2.txt"
   ]
  },
  {
   "cell_type": "markdown",
   "id": "least-benchmark",
   "metadata": {},
   "source": [
    "The line below deletes all the directories created above to clean up."
   ]
  },
  {
   "cell_type": "code",
   "execution_count": null,
   "id": "confirmed-decimal",
   "metadata": {},
   "outputs": [],
   "source": []
  },
  {
   "cell_type": "markdown",
   "id": "damaged-enterprise",
   "metadata": {},
   "source": [
    "## Commonly used UNIX Commands\n",
    "In this section, we will learn how to use some common UNIX commands which will be helpful while navigating the MacOS Terminal."
   ]
  },
  {
   "cell_type": "markdown",
   "id": "cross-maple",
   "metadata": {},
   "source": [
    "#### 1. `echo` command\n",
    "\n",
    "As the name suggests, the `echo` command can be used to display the input provided to it. This command is primarily used to print comments as a part of scripts written using UNIX commands. "
   ]
  },
  {
   "cell_type": "code",
   "execution_count": null,
   "id": "adjusted-evolution",
   "metadata": {},
   "outputs": [],
   "source": [
    "%%bash\n",
    "echo 'I know how to use the echo command.''"
   ]
  },
  {
   "cell_type": "markdown",
   "id": "cleared-subcommittee",
   "metadata": {},
   "source": [
    "An escape sequence is a backslash followed by a character, used as a part of strings to convey special meanings. The `-e` enables the interpretation of escape sequences. The `\\n` escape sequence used below represents the creation of a new line."
   ]
  },
  {
   "cell_type": "code",
   "execution_count": null,
   "id": "international-session",
   "metadata": {},
   "outputs": [],
   "source": [
    "%%bash\n",
    "echo -e 'I know how to use \\nescape sequences.'"
   ]
  },
  {
   "cell_type": "markdown",
   "id": "electric-given",
   "metadata": {},
   "source": [
    "#### 2. `cat` command"
   ]
  },
  {
   "cell_type": "markdown",
   "id": "strong-luxembourg",
   "metadata": {},
   "source": [
    "The `cat` command is a multifunctional command, which can be used to view, create, concatenate and modify files. The cat command can used to write to a file in the syntax `cat > [file_name]` followed by the contents on the next line. If the file with the name provided does not exist then a file is created, if it already exists then the contents of the file are overwritten. Below we create a new file named `cat_file` with a single line `hello world` in it."
   ]
  },
  {
   "cell_type": "code",
   "execution_count": null,
   "id": "opponent-burton",
   "metadata": {},
   "outputs": [],
   "source": [
    "%%bash\n",
    "cat > cat_file\n",
    "hello world"
   ]
  },
  {
   "cell_type": "markdown",
   "id": "ruled-lindsay",
   "metadata": {},
   "source": [
    "The `cat` command can be used to display the contents of a file as well using the `cat [file_name]` syntax. Providing a list of file names as input, concatenates the contents of all the files in the names were order provided and prints it."
   ]
  },
  {
   "cell_type": "code",
   "execution_count": null,
   "id": "bottom-porter",
   "metadata": {},
   "outputs": [],
   "source": [
    "%%bash\n",
    "cat cat_file"
   ]
  },
  {
   "cell_type": "markdown",
   "id": "qualified-significance",
   "metadata": {},
   "source": [
    "We can copy over the contents of a single file to another file as `cat [existing file_name] > [copy_file_name]`"
   ]
  },
  {
   "cell_type": "code",
   "execution_count": null,
   "id": "stuck-phrase",
   "metadata": {},
   "outputs": [],
   "source": [
    "%%bash\n",
    "cat cat_file > copy_cat_file\n",
    "cat copy_cat_file"
   ]
  },
  {
   "cell_type": "markdown",
   "id": "attractive-eleven",
   "metadata": {},
   "source": [
    "Using the `>>` operator instead of `>` appends to the file instead of overwritting it. In the first two cells below, we create a file named `file1` with 'This is the first line of file 1' in it and display it. In the next two cells, we append over the contents of `cat_file` to this file twice and display it."
   ]
  },
  {
   "cell_type": "code",
   "execution_count": null,
   "id": "legendary-section",
   "metadata": {},
   "outputs": [],
   "source": [
    "%%bash\n",
    "cat > file1\n",
    "This is the first line of file 1"
   ]
  },
  {
   "cell_type": "code",
   "execution_count": null,
   "id": "digital-facial",
   "metadata": {},
   "outputs": [],
   "source": [
    "%%bash\n",
    "cat file1"
   ]
  },
  {
   "cell_type": "code",
   "execution_count": null,
   "id": "standard-newman",
   "metadata": {},
   "outputs": [],
   "source": [
    "%%bash\n",
    "cat cat_file >> file1\n",
    "cat cat_file >> file1"
   ]
  },
  {
   "cell_type": "code",
   "execution_count": null,
   "id": "phantom-barbados",
   "metadata": {},
   "outputs": [],
   "source": [
    "%%bash\n",
    "cat file1"
   ]
  },
  {
   "cell_type": "markdown",
   "id": "sporting-grill",
   "metadata": {},
   "source": [
    "Running the `cat` command with the `-n` flag can be used to print the contents of the file along with line numbers."
   ]
  },
  {
   "cell_type": "code",
   "execution_count": null,
   "id": "preliminary-builder",
   "metadata": {},
   "outputs": [],
   "source": [
    "%%bash\n",
    "cat -n file1"
   ]
  },
  {
   "cell_type": "markdown",
   "id": "accessory-management",
   "metadata": {},
   "source": [
    "#### 3. `grep` command"
   ]
  },
  {
   "cell_type": "markdown",
   "id": "satisfactory-poison",
   "metadata": {},
   "source": [
    "The `grep` command can be used to search the contents of a file for a particular pattern. It takes as input the pattern to be searched enclosed in quotes followed by file names separated by space to search the pattern in. When run without any flags, it prints the entire line and the file name where the patter was found. Below we search for the patter \"hello\" in `cat_file` and `file` created above. Note the entire line \"hello world\" is printed even though only the pattern \"hello\" was used."
   ]
  },
  {
   "cell_type": "code",
   "execution_count": null,
   "id": "featured-accountability",
   "metadata": {},
   "outputs": [],
   "source": [
    "%%bash\n",
    "grep \"hello\" cat_file file1"
   ]
  },
  {
   "cell_type": "markdown",
   "id": "recognized-recorder",
   "metadata": {},
   "source": [
    "Using the `-c` prints the number of times the pattern was found instead of the entire line."
   ]
  },
  {
   "cell_type": "code",
   "execution_count": null,
   "id": "worth-courage",
   "metadata": {},
   "outputs": [],
   "source": [
    "%%bash\n",
    "grep -c \"hello\" cat_file file1"
   ]
  },
  {
   "cell_type": "markdown",
   "id": "final-former",
   "metadata": {},
   "source": [
    "Some other important flags for this command are `-i`, `-w`, `-n` and `-v`. The `-i` flag is used to match the pattern without case sensitivity. The `-w` is used to match whole words. For example if `grep -w \"comfort\"` will only match lines where the word `comfort` and ignore lines where `comfortable` is used, even though the pattern `comfort` is present in the word `comfortable`. The `-n` flag is used to print the lines with line numbers. The `-v` flag is used to print only the lines that do not match the pattern."
   ]
  },
  {
   "cell_type": "markdown",
   "id": "cultural-jumping",
   "metadata": {},
   "source": [
    "## Learn to use UNIX operators "
   ]
  },
  {
   "cell_type": "markdown",
   "id": "hungarian-handbook",
   "metadata": {},
   "source": [
    "We can combine UNIX commands to perform desired operations using UNIX opertors."
   ]
  },
  {
   "cell_type": "markdown",
   "id": "attended-exercise",
   "metadata": {},
   "source": [
    "We can run multiple UNIX commands one after the other by writing them on a single line separated by the `;` operator. Using `[Command 1];[Command 2]`, will first run `[Command 1]` and after executing it run `[Command 2]`. The line below combines all three commands to create a new directory, navigate to it, and then print the current working directory."
   ]
  },
  {
   "cell_type": "code",
   "execution_count": null,
   "id": "measured-campus",
   "metadata": {},
   "outputs": [],
   "source": [
    "%%bash\n",
    "mkdir dir3 && cd dir3 && pwd"
   ]
  },
  {
   "cell_type": "markdown",
   "id": "tough-sacrifice",
   "metadata": {},
   "source": [
    "However if the first command could not be executed due to an error, the following commands can still be executed. This can be dangerous in some cases. The command `cd dir1 && rm -rf *` should navigate to `dir1` and delete all of its contents without any prompts. If there was an issue with the `cd dir1` command and the navigation to `dir1` was not completed, the next command will still be executed. This will delete all the contents of the current directory. If this command was run from the root directory, then the entire contents of your computer will be erased. To avoid this, we can concatenate the commands with `&` operator instead which only executes the next following commands if the previous command were executed properly."
   ]
  },
  {
   "cell_type": "markdown",
   "id": "collaborative-teaching",
   "metadata": {},
   "source": [
    "Piping means to redirect the output of one command as the input of another command. The `|` operator can be used to perform piping of UNIX commands. The cell below, we have first listed all the contents of the directory and then used the `|` to redirect its output to the `grep` command which searches for the `cat` pattern. So this line can be used to find files which has the pattern `cat` in the file name."
   ]
  },
  {
   "cell_type": "code",
   "execution_count": null,
   "id": "sunset-hypothetical",
   "metadata": {},
   "outputs": [],
   "source": [
    "%%bash\n",
    "ls -a | grep \"cat\""
   ]
  },
  {
   "cell_type": "markdown",
   "id": "brilliant-oxide",
   "metadata": {},
   "source": [
    "The `#` operator can be added to the start of a line for comments. The operator will ignore and not execute such lines."
   ]
  },
  {
   "cell_type": "code",
   "execution_count": null,
   "id": "unlimited-showcase",
   "metadata": {},
   "outputs": [],
   "source": [
    "%%bash\n",
    "# The following command is a executed\n",
    "ls -a | grep \"file\"\n",
    "# The following command is a comment, so it is ignored\n",
    "# ls"
   ]
  },
  {
   "cell_type": "markdown",
   "id": "enormous-concept",
   "metadata": {},
   "source": [
    "## How to run UNIX commands in the MacOS Terminal\n"
   ]
  },
  {
   "cell_type": "markdown",
   "id": "historical-centre",
   "metadata": {},
   "source": [
    "Now that you have learn to how to use basic UNIX commands and experimented in Jupyter Notebook, it is time to run these commands in the MacOS Terminal. You can open the Terminal by clicking on its logo from the `Applications` Folder in Finder. You can also press `command` and `space bar` simulataneously and type `Terminal` in Spotlight Search Bar. Clicking on the logo will open the Terminal."
   ]
  },
  {
   "cell_type": "markdown",
   "id": "great-reform",
   "metadata": {},
   "source": [
    "You can type any UNIX command decribed above in the terminal and press enter to run it. The ouput will be printed on the next line. Remember to not copy the `%%bash` function used at the start of every cell in this tutorial. "
   ]
  },
  {
   "cell_type": "markdown",
   "id": "pursuant-arlington",
   "metadata": {},
   "source": [
    "We strongly recommend that you repeat the above steps tutorial using the Terminal to get a throrough understanding of UNIX commands. "
   ]
  },
  {
   "cell_type": "code",
   "execution_count": null,
   "id": "painful-holiday",
   "metadata": {},
   "outputs": [],
   "source": [
    "# Cleaning Up - Deleting all the files created in this tutorial\n",
    "%%bash\n",
    "rm -r dir2 dir1 dir3 cat_file copy_cat_file file1"
   ]
  }
 ],
 "metadata": {
  "kernelspec": {
   "display_name": "Python 3",
   "language": "python",
   "name": "python3"
  },
  "language_info": {
   "codemirror_mode": {
    "name": "ipython",
    "version": 3
   },
   "file_extension": ".py",
   "mimetype": "text/x-python",
   "name": "python",
   "nbconvert_exporter": "python",
   "pygments_lexer": "ipython3",
   "version": "3.8.5"
  }
 },
 "nbformat": 4,
 "nbformat_minor": 5
}
